{
 "cells": [
  {
   "cell_type": "markdown",
   "metadata": {},
   "source": [
    "### Python3 text processing script for Ubuntu 18 ###"
   ]
  },
  {
   "cell_type": "code",
   "execution_count": 1,
   "metadata": {},
   "outputs": [
    {
     "name": "stdout",
     "output_type": "stream",
     "text": [
      "Out_All_Channels_2404201233405.csv\n"
     ]
    }
   ],
   "source": [
    "#Finding the most recent CSV files in Downloads\n",
    "\n",
    "import glob\n",
    "import os\n",
    "\n",
    "count = 1\n",
    "\n",
    "os.chdir('/home/abu/Downloads/UPTest/')\n",
    "\n",
    "files_list = glob.glob('Out_All_Channels_*.csv')\n",
    "recent_file = max(files_list, key=None, default=0)\n",
    "\n",
    "print(recent_file)"
   ]
  },
  {
   "cell_type": "code",
   "execution_count": 2,
   "metadata": {},
   "outputs": [],
   "source": [
    "#Opening the most recent CSV file in Downloads\n",
    "\n",
    "import csv\n",
    "\n",
    "#print(recent_file)\n",
    "\n",
    "with open(recent_file, newline='') as csvfile:\n",
    "    for skip_row in range(2):\n",
    "        next(csvfile)\n",
    "    is_active_read = csv.DictReader(csvfile, delimiter=',')\n",
    "    for row in is_active_read:        \n",
    "        is_active = row['is_active']\n",
    "        if is_active == '1':\n",
    "            with open('output_file.csv','a', newline='') as csvfile:\n",
    "                output_write = csv.writer(csvfile)\n",
    "                write = '#Channel ' + str(count) + ' ' + row['channel_name']\n",
    "                output_write.writerow([write])\n",
    "                write = ('ch' + str(count) + '=' + '\"udp://@' + row['input_url'] + ':' + row['input_port'] + '\"')\n",
    "                output_write.writerow([write])\n",
    "                write = ('IPOUT' + str(count) + '=' + '\"udp://@' + row['output_url'] + '\"')\n",
    "                output_write.writerow([write])\n",
    "                write = ('OUTPUTPORT' + str(count) + '= \"' + row['output_port'] + '\"')\n",
    "                output_write.writerow([write])\n",
    "                write = ('chFormat' + str(count) + '= \"' + row['format'] + '\"')\n",
    "                output_write.writerow([write])\n",
    "                write = ('module' + str(count) + '= \"' + row['module_id'] + '\"' )\n",
    "                output_write.writerow([write])\n",
    "                write = ('profile' + str(count) + '= \"' + row['profile_file'] + '\"' )\n",
    "                output_write.writerow([write + '\\n'])\n",
    "                count += 1\n",
    "                "
   ]
  },
  {
   "cell_type": "code",
   "execution_count": null,
   "metadata": {},
   "outputs": [],
   "source": []
  },
  {
   "cell_type": "code",
   "execution_count": null,
   "metadata": {},
   "outputs": [],
   "source": []
  }
 ],
 "metadata": {
  "kernelspec": {
   "display_name": "Python 3",
   "language": "python",
   "name": "python3"
  },
  "language_info": {
   "codemirror_mode": {
    "name": "ipython",
    "version": 3
   },
   "file_extension": ".py",
   "mimetype": "text/x-python",
   "name": "python",
   "nbconvert_exporter": "python",
   "pygments_lexer": "ipython3",
   "version": "3.8.2"
  }
 },
 "nbformat": 4,
 "nbformat_minor": 4
}
